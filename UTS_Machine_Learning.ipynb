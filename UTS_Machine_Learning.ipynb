{
  "nbformat": 4,
  "nbformat_minor": 0,
  "metadata": {
    "colab": {
      "provenance": [],
      "authorship_tag": "ABX9TyNDKZEJ9o1CcBFAiEbjNFvD",
      "include_colab_link": true
    },
    "kernelspec": {
      "name": "python3",
      "display_name": "Python 3"
    },
    "language_info": {
      "name": "python"
    }
  },
  "cells": [
    {
      "cell_type": "markdown",
      "metadata": {
        "id": "view-in-github",
        "colab_type": "text"
      },
      "source": [
        "<a href=\"https://colab.research.google.com/github/MuhammadIlham202310021/UTS-Machine-Learning/blob/main/UTS_Machine_Learning.ipynb\" target=\"_parent\"><img src=\"https://colab.research.google.com/assets/colab-badge.svg\" alt=\"Open In Colab\"/></a>"
      ]
    },
    {
      "cell_type": "code",
      "execution_count": 2,
      "metadata": {
        "id": "I9eeKwe5DI5H"
      },
      "outputs": [],
      "source": [
        "import pandas as pd\n",
        "\n",
        "url = 'https://raw.githubusercontent.com/isnanmulia/lecture-datasets/main/mobileprice_modified.csv'\n",
        "df = pd.read_csv(url)"
      ]
    },
    {
      "cell_type": "markdown",
      "source": [
        "## 1) Mengidentifikasi nama dan jenis atribut dari seluruh atribut prediktor dan seluruh atribut label yang terdapat pada dataset tersebut. Jika ada atribut yang berjenis kategorik, sebutkan nilai unik yang terdapat pada atribut tersebut."
      ],
      "metadata": {
        "id": "a1Qz-UJZENjv"
      }
    },
    {
      "cell_type": "code",
      "source": [
        "df.info()\n",
        "\n",
        "categorical_attributes = []\n",
        "\n",
        "for column in df.columns:\n",
        "    if len(df[column].unique()) <= 2:\n",
        "        categorical_attributes.append(column)\n",
        "\n",
        "print(\"Atribut Kategorik:\")\n",
        "print(categorical_attributes)"
      ],
      "metadata": {
        "colab": {
          "base_uri": "https://localhost:8080/"
        },
        "id": "X8atPlJ6Eqs8",
        "outputId": "176d47e7-395d-4a2b-d7cc-766047c8f9d1"
      },
      "execution_count": 3,
      "outputs": [
        {
          "output_type": "stream",
          "name": "stdout",
          "text": [
            "<class 'pandas.core.frame.DataFrame'>\n",
            "RangeIndex: 2000 entries, 0 to 1999\n",
            "Data columns (total 21 columns):\n",
            " #   Column         Non-Null Count  Dtype  \n",
            "---  ------         --------------  -----  \n",
            " 0   battery_power  1990 non-null   float64\n",
            " 1   blue           2000 non-null   int64  \n",
            " 2   clock_speed    2000 non-null   float64\n",
            " 3   dual_sim       2000 non-null   int64  \n",
            " 4   fc             2000 non-null   int64  \n",
            " 5   four_g         2000 non-null   int64  \n",
            " 6   int_memory     1990 non-null   float64\n",
            " 7   m_dep          2000 non-null   float64\n",
            " 8   mobile_wt      1990 non-null   float64\n",
            " 9   n_cores        2000 non-null   int64  \n",
            " 10  pc             2000 non-null   int64  \n",
            " 11  px_height      2000 non-null   int64  \n",
            " 12  px_width       2000 non-null   int64  \n",
            " 13  ram            1990 non-null   float64\n",
            " 14  sc_h           2000 non-null   int64  \n",
            " 15  sc_w           2000 non-null   int64  \n",
            " 16  talk_time      2000 non-null   int64  \n",
            " 17  three_g        2000 non-null   int64  \n",
            " 18  touch_screen   2000 non-null   int64  \n",
            " 19  wifi           2000 non-null   int64  \n",
            " 20  price_range    2000 non-null   int64  \n",
            "dtypes: float64(6), int64(15)\n",
            "memory usage: 328.2 KB\n",
            "Atribut Kategorik:\n",
            "['blue', 'dual_sim', 'four_g', 'three_g', 'touch_screen', 'wifi']\n"
          ]
        }
      ]
    },
    {
      "cell_type": "code",
      "source": [
        "unique_values_blue = df['blue'].value_counts()\n",
        "unique_values_dual_sim = df['dual_sim'].value_counts()\n",
        "unique_values_four_g = df['four_g'].value_counts()\n",
        "unique_values_three_g = df['three_g'].value_counts()\n",
        "unique_values_touch_screen = df['touch_screen'].value_counts()\n",
        "unique_values_wifi = df['wifi'].value_counts()\n",
        "\n",
        "print(\"Unique values in 'blue' attribute:\")\n",
        "print(unique_values_blue)\n",
        "\n",
        "print(\"\\nUnique values in 'dual_sim' attribute:\")\n",
        "print(unique_values_dual_sim)\n",
        "\n",
        "print(\"\\nUnique values in 'four_g' attribute:\")\n",
        "print(unique_values_four_g)\n",
        "\n",
        "print(\"\\nUnique values in 'three_g' attribute:\")\n",
        "print(unique_values_three_g)\n",
        "\n",
        "print(\"\\nUnique values in 'touch_screen' attribute:\")\n",
        "print(unique_values_touch_screen)\n",
        "\n",
        "print(\"\\nUnique values in 'wifi' attribute:\")\n",
        "print(unique_values_wifi)\n"
      ],
      "metadata": {
        "colab": {
          "base_uri": "https://localhost:8080/"
        },
        "id": "N2M6i-M1ILrl",
        "outputId": "e0aed00c-a881-4972-bf9b-bba05434a162"
      },
      "execution_count": 4,
      "outputs": [
        {
          "output_type": "stream",
          "name": "stdout",
          "text": [
            "Unique values in 'blue' attribute:\n",
            "0    1010\n",
            "1     990\n",
            "Name: blue, dtype: int64\n",
            "\n",
            "Unique values in 'dual_sim' attribute:\n",
            "1    1019\n",
            "0     981\n",
            "Name: dual_sim, dtype: int64\n",
            "\n",
            "Unique values in 'four_g' attribute:\n",
            "1    1043\n",
            "0     957\n",
            "Name: four_g, dtype: int64\n",
            "\n",
            "Unique values in 'three_g' attribute:\n",
            "1    1523\n",
            "0     477\n",
            "Name: three_g, dtype: int64\n",
            "\n",
            "Unique values in 'touch_screen' attribute:\n",
            "1    1006\n",
            "0     994\n",
            "Name: touch_screen, dtype: int64\n",
            "\n",
            "Unique values in 'wifi' attribute:\n",
            "1    1014\n",
            "0     986\n",
            "Name: wifi, dtype: int64\n"
          ]
        }
      ]
    },
    {
      "cell_type": "markdown",
      "source": [
        "---\n",
        "## 2. Melakukan Pra-proses data. Detail untuk pengerjaan praproses data adalah sebagai berikut."
      ],
      "metadata": {
        "id": "czLlXIeoJLfP"
      }
    },
    {
      "cell_type": "markdown",
      "source": [
        " a.   Pisahkan bagian atribut prediktor dengan label data menjadi 2 variabel terpisah."
      ],
      "metadata": {
        "id": "zUiFsfMjIRet"
      }
    },
    {
      "cell_type": "code",
      "source": [
        "# Pisahkan atribut prediktor (fitur) dan atribut label\n",
        "X = df.drop(\"price_range\", axis=1)\n",
        "y = df[\"price_range\"]\n"
      ],
      "metadata": {
        "id": "pAy0NxjQJbcl"
      },
      "execution_count": 7,
      "outputs": []
    },
    {
      "cell_type": "markdown",
      "source": [
        "b. Gunakan SimpleImputer untuk menangani missing values, dengan nilai median dari atribut data sebagai strategi pengisian nilai"
      ],
      "metadata": {
        "id": "mXTUmDRkJ6dy"
      }
    },
    {
      "cell_type": "code",
      "source": [
        "from sklearn.impute import SimpleImputer\n",
        "\n",
        "imputer = SimpleImputer(strategy='median')\n",
        "X_imputed = imputer.fit_transform(X)"
      ],
      "metadata": {
        "id": "BSv48yCJJ5nr"
      },
      "execution_count": 8,
      "outputs": []
    },
    {
      "cell_type": "markdown",
      "source": [
        "c. Terapkan MinMaxScaler atau StandardScaler untuk mengubah nilai atribut prdeiktor, agar nilai dari masing-masing atribut menjadi seragam"
      ],
      "metadata": {
        "id": "7_jEPa5aKQwA"
      }
    },
    {
      "cell_type": "code",
      "source": [
        "from sklearn.preprocessing import StandardScaler\n",
        "\n",
        "scaler = StandardScaler()\n",
        "\n",
        "X_scaled = scaler.fit_transform(X_imputed)"
      ],
      "metadata": {
        "id": "aYsfshEyKf1g"
      },
      "execution_count": 9,
      "outputs": []
    },
    {
      "cell_type": "markdown",
      "source": [
        "d. Tampilkan statistik deskriptif dari atribut data sebelum dan setelah dilakukan pengisian missing values dan standarisasi"
      ],
      "metadata": {
        "id": "jM8tQxEJKqR8"
      }
    },
    {
      "cell_type": "code",
      "source": [
        "# Statistik deskriptif sebelum pengisian missing values\n",
        "before_imputation_stats = X.describe()\n",
        "\n",
        "# Statistik deskriptif setelah pengisian missing values (sebelum standarisasi)\n",
        "after_imputation_stats = pd.DataFrame(X_imputed, columns=X.columns).describe()\n",
        "\n",
        "print(\"Statistik Deskriptif Sebelum Pengisian Missing Values:\")\n",
        "print(before_imputation_stats)\n",
        "\n",
        "print(\"\\nStatistik Deskriptif Setelah Pengisian Missing Values (Sebelum Standarisasi):\")\n",
        "print(after_imputation_stats)"
      ],
      "metadata": {
        "colab": {
          "base_uri": "https://localhost:8080/"
        },
        "id": "M9nfPOYWKuLG",
        "outputId": "c4e4d38f-d565-44c0-defb-f152f1c2595c"
      },
      "execution_count": 10,
      "outputs": [
        {
          "output_type": "stream",
          "name": "stdout",
          "text": [
            "Statistik Deskriptif Sebelum Pengisian Missing Values:\n",
            "       battery_power       blue  clock_speed     dual_sim           fc  \\\n",
            "count    1990.000000  2000.0000  2000.000000  2000.000000  2000.000000   \n",
            "mean     1237.867839     0.4950     1.522250     0.509500     4.309500   \n",
            "std       439.676025     0.5001     0.816004     0.500035     4.341444   \n",
            "min       501.000000     0.0000     0.500000     0.000000     0.000000   \n",
            "25%       850.250000     0.0000     0.700000     0.000000     1.000000   \n",
            "50%      1225.000000     0.0000     1.500000     1.000000     3.000000   \n",
            "75%      1615.000000     1.0000     2.200000     1.000000     7.000000   \n",
            "max      1998.000000     1.0000     3.000000     1.000000    19.000000   \n",
            "\n",
            "            four_g   int_memory        m_dep    mobile_wt      n_cores  \\\n",
            "count  2000.000000  1990.000000  2000.000000  1990.000000  2000.000000   \n",
            "mean      0.521500    31.987940     0.501750   140.344221     4.520500   \n",
            "std       0.499662    18.136427     0.288416    35.407114     2.287837   \n",
            "min       0.000000     2.000000     0.100000    80.000000     1.000000   \n",
            "25%       0.000000    16.000000     0.200000   109.000000     3.000000   \n",
            "50%       1.000000    32.000000     0.500000   141.000000     4.000000   \n",
            "75%       1.000000    48.000000     0.800000   170.000000     7.000000   \n",
            "max       1.000000    64.000000     1.000000   200.000000     8.000000   \n",
            "\n",
            "                pc    px_height     px_width          ram         sc_h  \\\n",
            "count  2000.000000  2000.000000  2000.000000  1990.000000  2000.000000   \n",
            "mean      9.916500   645.108000  1251.515500  2124.991960    12.306500   \n",
            "std       6.064315   443.780811   432.199447  1084.885362     4.213245   \n",
            "min       0.000000     0.000000   500.000000   256.000000     5.000000   \n",
            "25%       5.000000   282.750000   874.750000  1208.250000     9.000000   \n",
            "50%      10.000000   564.000000  1247.000000  2146.500000    12.000000   \n",
            "75%      15.000000   947.250000  1633.000000  3065.500000    16.000000   \n",
            "max      20.000000  1960.000000  1998.000000  3998.000000    19.000000   \n",
            "\n",
            "              sc_w    talk_time      three_g  touch_screen         wifi  \n",
            "count  2000.000000  2000.000000  2000.000000   2000.000000  2000.000000  \n",
            "mean      5.767000    11.011000     0.761500      0.503000     0.507000  \n",
            "std       4.356398     5.463955     0.426273      0.500116     0.500076  \n",
            "min       0.000000     2.000000     0.000000      0.000000     0.000000  \n",
            "25%       2.000000     6.000000     1.000000      0.000000     0.000000  \n",
            "50%       5.000000    11.000000     1.000000      1.000000     1.000000  \n",
            "75%       9.000000    16.000000     1.000000      1.000000     1.000000  \n",
            "max      18.000000    20.000000     1.000000      1.000000     1.000000  \n",
            "\n",
            "Statistik Deskriptif Setelah Pengisian Missing Values (Sebelum Standarisasi):\n",
            "       battery_power       blue  clock_speed     dual_sim           fc  \\\n",
            "count    2000.000000  2000.0000  2000.000000  2000.000000  2000.000000   \n",
            "mean     1237.803500     0.4950     1.522250     0.509500     4.309500   \n",
            "std       438.575846     0.5001     0.816004     0.500035     4.341444   \n",
            "min       501.000000     0.0000     0.500000     0.000000     0.000000   \n",
            "25%       851.750000     0.0000     0.700000     0.000000     1.000000   \n",
            "50%      1225.000000     0.0000     1.500000     1.000000     3.000000   \n",
            "75%      1614.000000     1.0000     2.200000     1.000000     7.000000   \n",
            "max      1998.000000     1.0000     3.000000     1.000000    19.000000   \n",
            "\n",
            "            four_g   int_memory        m_dep    mobile_wt      n_cores  \\\n",
            "count  2000.000000  2000.000000  2000.000000  2000.000000  2000.000000   \n",
            "mean      0.521500    31.988000     0.501750   140.347500     4.520500   \n",
            "std       0.499662    18.091006     0.288416    35.318472     2.287837   \n",
            "min       0.000000     2.000000     0.100000    80.000000     1.000000   \n",
            "25%       0.000000    16.000000     0.200000   109.000000     3.000000   \n",
            "50%       1.000000    32.000000     0.500000   141.000000     4.000000   \n",
            "75%       1.000000    48.000000     0.800000   170.000000     7.000000   \n",
            "max       1.000000    64.000000     1.000000   200.000000     8.000000   \n",
            "\n",
            "                pc    px_height     px_width          ram         sc_h  \\\n",
            "count  2000.000000  2000.000000  2000.000000  2000.000000  2000.000000   \n",
            "mean      9.916500   645.108000  1251.515500  2125.099500    12.306500   \n",
            "std       6.064315   443.780811   432.199447  1082.169453     4.213245   \n",
            "min       0.000000     0.000000   500.000000   256.000000     5.000000   \n",
            "25%       5.000000   282.750000   874.750000  1210.750000     9.000000   \n",
            "50%      10.000000   564.000000  1247.000000  2146.500000    12.000000   \n",
            "75%      15.000000   947.250000  1633.000000  3060.000000    16.000000   \n",
            "max      20.000000  1960.000000  1998.000000  3998.000000    19.000000   \n",
            "\n",
            "              sc_w    talk_time      three_g  touch_screen         wifi  \n",
            "count  2000.000000  2000.000000  2000.000000   2000.000000  2000.000000  \n",
            "mean      5.767000    11.011000     0.761500      0.503000     0.507000  \n",
            "std       4.356398     5.463955     0.426273      0.500116     0.500076  \n",
            "min       0.000000     2.000000     0.000000      0.000000     0.000000  \n",
            "25%       2.000000     6.000000     1.000000      0.000000     0.000000  \n",
            "50%       5.000000    11.000000     1.000000      1.000000     1.000000  \n",
            "75%       9.000000    16.000000     1.000000      1.000000     1.000000  \n",
            "max      18.000000    20.000000     1.000000      1.000000     1.000000  \n"
          ]
        }
      ]
    },
    {
      "cell_type": "code",
      "source": [
        "# Statistik deskriptif setelah standarisasi\n",
        "after_scaling_stats = pd.DataFrame(X_scaled, columns=X.columns).describe()\n",
        "\n",
        "print(\"\\nStatistik Deskriptif Setelah Standarisasi:\")\n",
        "print(after_scaling_stats)"
      ],
      "metadata": {
        "colab": {
          "base_uri": "https://localhost:8080/"
        },
        "id": "57jNh0EgLFGf",
        "outputId": "ff01f6a3-901c-42de-a7ad-c118a9906c79"
      },
      "execution_count": 11,
      "outputs": [
        {
          "output_type": "stream",
          "name": "stdout",
          "text": [
            "\n",
            "Statistik Deskriptif Setelah Standarisasi:\n",
            "       battery_power          blue   clock_speed      dual_sim            fc  \\\n",
            "count   2.000000e+03  2.000000e+03  2.000000e+03  2.000000e+03  2.000000e+03   \n",
            "mean    2.842171e-17 -1.243450e-17 -1.545430e-16  8.082424e-17  5.861978e-17   \n",
            "std     1.000250e+00  1.000250e+00  1.000250e+00  1.000250e+00  1.000250e+00   \n",
            "min    -1.680411e+00 -9.900495e-01 -1.253064e+00 -1.019184e+00 -9.928904e-01   \n",
            "25%    -8.804636e-01 -9.900495e-01 -1.007906e+00 -1.019184e+00 -7.624947e-01   \n",
            "50%    -2.920066e-02 -9.900495e-01 -2.727384e-02  9.811771e-01 -3.017032e-01   \n",
            "75%     8.579829e-01  1.010051e+00  8.307794e-01  9.811771e-01  6.198797e-01   \n",
            "max     1.733763e+00  1.010051e+00  1.811412e+00  9.811771e-01  3.384628e+00   \n",
            "\n",
            "             four_g    int_memory         m_dep     mobile_wt       n_cores  \\\n",
            "count  2.000000e+03  2.000000e+03  2.000000e+03  2.000000e+03  2.000000e+03   \n",
            "mean   1.048051e-16  3.197442e-17 -1.030287e-16  8.881784e-17 -7.727152e-17   \n",
            "std    1.000250e+00  1.000250e+00  1.000250e+00  1.000250e+00  1.000250e+00   \n",
            "min   -1.043966e+00 -1.658034e+00 -1.393304e+00 -1.709094e+00 -1.539175e+00   \n",
            "25%   -1.043966e+00 -8.839751e-01 -1.046495e+00 -8.877887e-01 -6.647678e-01   \n",
            "50%    9.578860e-01  6.634789e-04 -6.069151e-03  1.847937e-02 -2.275644e-01   \n",
            "75%    9.578860e-01  8.853020e-01  1.034357e+00  8.397848e-01  1.084046e+00   \n",
            "max    9.578860e-01  1.769941e+00  1.727974e+00  1.689411e+00  1.521249e+00   \n",
            "\n",
            "                 pc     px_height      px_width           ram          sc_h  \\\n",
            "count  2.000000e+03  2.000000e+03  2.000000e+03  2.000000e+03  2.000000e+03   \n",
            "mean   1.403322e-16  1.181277e-16  6.084022e-17  1.740830e-16  4.884981e-17   \n",
            "std    1.000250e+00  1.000250e+00  1.000250e+00  1.000250e+00  1.000250e+00   \n",
            "min   -1.635631e+00 -1.454027e+00 -1.739251e+00 -1.727610e+00 -1.734608e+00   \n",
            "25%   -8.109291e-01 -8.167289e-01 -8.719579e-01 -8.451340e-01 -7.849833e-01   \n",
            "50%    1.377252e-02 -1.828116e-01 -1.045034e-02  1.978050e-02 -7.276497e-02   \n",
            "75%    8.384742e-01  6.810064e-01  8.828792e-01  8.641293e-01  8.768595e-01   \n",
            "max    1.663176e+00  2.963672e+00  1.727608e+00  1.731123e+00  1.589078e+00   \n",
            "\n",
            "               sc_w     talk_time       three_g  touch_screen          wifi  \n",
            "count  2.000000e+03  2.000000e+03  2.000000e+03  2.000000e+03  2.000000e+03  \n",
            "mean  -5.506706e-17  1.421085e-16  1.421085e-17 -5.417888e-17  1.421085e-17  \n",
            "std    1.000250e+00  1.000250e+00  1.000250e+00  1.000250e+00  1.000250e+00  \n",
            "min   -1.324131e+00 -1.649584e+00 -1.786861e+00 -1.006018e+00 -1.014099e+00  \n",
            "25%   -8.649215e-01 -9.173306e-01  5.596406e-01 -1.006018e+00 -1.014099e+00  \n",
            "50%   -1.761069e-01 -2.013697e-03  5.596406e-01  9.940179e-01  9.860966e-01  \n",
            "75%    7.423125e-01  9.133032e-01  5.596406e-01  9.940179e-01  9.860966e-01  \n",
            "max    2.808756e+00  1.645557e+00  5.596406e-01  9.940179e-01  9.860966e-01  \n"
          ]
        }
      ]
    },
    {
      "cell_type": "markdown",
      "source": [
        "---\n",
        "## 3. Membangun model klasifikasi berdasarkan dataset yang telah dilakukan praproses data. Detail untuk pengerjaan klasifikasi adalah sebagai berikut"
      ],
      "metadata": {
        "id": "X4LvabPKLq-Q"
      }
    },
    {
      "cell_type": "markdown",
      "source": [
        "a. Gunakan salah satu algoritma berikut untuk membangun model klasifikasi: KNN, Decision Tree, SVM (parameter yang digunakan boleh disesuaikan dengan bebas)"
      ],
      "metadata": {
        "id": "Dre7eczRMuHn"
      }
    },
    {
      "cell_type": "code",
      "source": [
        "from sklearn.model_selection import train_test_split\n",
        "from sklearn.neighbors import KNeighborsClassifier\n",
        "\n",
        "X_train, X_test, y_train, y_test = train_test_split(X_scaled, y, test_size=0.2, random_state=42)\n",
        "\n",
        "knn = KNeighborsClassifier(n_neighbors=5)\n",
        "knn.fit(X_train, y_train)\n",
        "y_pred = knn.predict(X_test)\n",
        "\n",
        "from sklearn.metrics import accuracy_score\n",
        "\n",
        "accuracy = accuracy_score(y_test, y_pred)\n",
        "print(f'Akurasi model KNN: {accuracy}')"
      ],
      "metadata": {
        "colab": {
          "base_uri": "https://localhost:8080/"
        },
        "id": "fu8neDFFMTkO",
        "outputId": "49b19ba1-6f7a-4a9e-ed51-1f9ba85aaca6"
      },
      "execution_count": 13,
      "outputs": [
        {
          "output_type": "stream",
          "name": "stdout",
          "text": [
            "Akurasi model KNN: 0.515\n"
          ]
        }
      ]
    },
    {
      "cell_type": "markdown",
      "source": [
        "b. Gunakan metode holdout untuk membagi keseluruhan dataset menjadi data training dan data testing, dengan proposi 80% data training dan 20% data testing"
      ],
      "metadata": {
        "id": "HbWRM_X4SKnI"
      }
    },
    {
      "cell_type": "code",
      "source": [
        "from sklearn.model_selection import train_test_split\n",
        "\n",
        "X_train, X_test, y_train, y_test = train_test_split(X_scaled, y, test_size=0.2, random_state=42)"
      ],
      "metadata": {
        "id": "566x6rAMSk2w"
      },
      "execution_count": 14,
      "outputs": []
    },
    {
      "cell_type": "markdown",
      "source": [
        "c. Tampilkan confusion matrix dan akurasi model klasifikasi"
      ],
      "metadata": {
        "id": "cdzM6HCvS9Ip"
      }
    },
    {
      "cell_type": "code",
      "source": [
        "from sklearn.metrics import confusion_matrix, accuracy_score\n",
        "\n",
        "# Melakukan prediksi pada data pengujian\n",
        "y_pred = knn.predict(X_test)  # 'knn' adalah model KNN yang telah kita latih\n",
        "\n",
        "# Menghitung matriks kebingungan\n",
        "confusion = confusion_matrix(y_test, y_pred)\n",
        "\n",
        "# Menghitung akurasi\n",
        "accuracy = accuracy_score(y_test, y_pred)\n",
        "\n",
        "print(\"Confusion Matrix:\")\n",
        "print(confusion)\n",
        "print(f'Akurasi model klasifikasi: {accuracy}')"
      ],
      "metadata": {
        "colab": {
          "base_uri": "https://localhost:8080/"
        },
        "id": "OqPyKuppTEu6",
        "outputId": "a0d03a94-fffc-4f31-a077-531fdbe0fad7"
      },
      "execution_count": 17,
      "outputs": [
        {
          "output_type": "stream",
          "name": "stdout",
          "text": [
            "Confusion Matrix:\n",
            "[[74 24  6  1]\n",
            " [25 37 24  5]\n",
            " [ 6 40 35 11]\n",
            " [ 2 11 39 60]]\n",
            "Akurasi model klasifikasi: 0.515\n"
          ]
        }
      ]
    },
    {
      "cell_type": "markdown",
      "source": [
        "---\n",
        "## 4. Membangun model clustering berdasarkan dataset yang telah dilakukan praproses data, jika memungkinkan. Detail untuk pengerjaan Clustering adalah sebagai berikut.\n"
      ],
      "metadata": {
        "id": "GKnVE2CCTbJ9"
      }
    },
    {
      "cell_type": "markdown",
      "source": [
        "a. Gunakan salah satu algoritma berikut untuk melakukan clustering: K-Means, DBSCAN, Agglomerative clustering (parameter yang digunakan boleh disesuaikan dengan bebas)"
      ],
      "metadata": {
        "id": "nJCoCaKgTyhy"
      }
    },
    {
      "cell_type": "code",
      "source": [
        "from sklearn.cluster import KMeans\n",
        "import matplotlib.pyplot as plt\n",
        "\n",
        "kmeans = KMeans(n_clusters=10, random_state=0)\n",
        "kmeans.fit(X_scaled)\n",
        "cluster_labels = kmeans.labels_\n",
        "cluster_centers = kmeans.cluster_centers_\n",
        "\n",
        "# Membuat scatter plot\n",
        "plt.scatter(X_scaled[:, 0], X_scaled[:, 1], c=cluster_labels, cmap='viridis')\n",
        "\n",
        "# Menambahkan centroid cluster ke dalam plot\n",
        "plt.scatter(cluster_centers[:, 0], cluster_centers[:, 1], c='red', marker='x', s=100)\n",
        "\n",
        "plt.xlabel('Atribut 1')\n",
        "plt.ylabel('Atribut 2')\n",
        "plt.title('Hasil Clustering dengan K-Means')\n",
        "plt.show()"
      ],
      "metadata": {
        "colab": {
          "base_uri": "https://localhost:8080/",
          "height": 527
        },
        "id": "2krPplWXUFeE",
        "outputId": "84462784-9097-49ad-9de2-1110f4c5dbaa"
      },
      "execution_count": 20,
      "outputs": [
        {
          "output_type": "stream",
          "name": "stderr",
          "text": [
            "/usr/local/lib/python3.10/dist-packages/sklearn/cluster/_kmeans.py:870: FutureWarning: The default value of `n_init` will change from 10 to 'auto' in 1.4. Set the value of `n_init` explicitly to suppress the warning\n",
            "  warnings.warn(\n"
          ]
        },
        {
          "output_type": "display_data",
          "data": {
            "text/plain": [
              "<Figure size 640x480 with 1 Axes>"
            ],
            "image/png": "[encoded data removed]"
          },
          "metadata": {}
        }
      ]
    },
    {
      "cell_type": "markdown",
      "source": [
        "b. Tampilkan silhoutte score dari model clustering"
      ],
      "metadata": {
        "id": "rYjJFw_NUFrX"
      }
    },
    {
      "cell_type": "code",
      "source": [
        "from sklearn.metrics import silhouette_score\n",
        "\n",
        "# Hitung Silhouette Score\n",
        "silhouette_avg = silhouette_score(X_scaled, cluster_labels)\n",
        "\n",
        "print(f\"Silhouette Score: {silhouette_avg}\")"
      ],
      "metadata": {
        "colab": {
          "base_uri": "https://localhost:8080/"
        },
        "id": "hez0bqiTUM3m",
        "outputId": "23a31f0a-cb26-42af-da6d-6fb90b3f9ad2"
      },
      "execution_count": 21,
      "outputs": [
        {
          "output_type": "stream",
          "name": "stdout",
          "text": [
            "Silhouette Score: 0.04512721896777574\n"
          ]
        }
      ]
    }
  ]
}